{
 "cells": [
  {
   "cell_type": "code",
   "execution_count": 1,
   "metadata": {},
   "outputs": [],
   "source": [
    "import pandas as pd\n",
    "import numpy as np\n",
    "import matplotlib\n",
    "import matplotlib.pyplot as plt\n",
    "import matplotlib.font_manager as font_manager\n",
    "import math\n",
    "import pathlib\n",
    "import re"
   ]
  },
  {
   "cell_type": "code",
   "execution_count": 2,
   "metadata": {},
   "outputs": [],
   "source": [
    "# Color style similar to ppt color scheme\n",
    "plt.style.use('seaborn-colorblind')\n",
    "\n",
    "#Latex Default Font\n",
    "plt.rc('font', family='serif') \n",
    "plt.rc('font', serif='Latin Modern Roman')\n",
    "matplotlib.rcParams.update({'font.size': 16})"
   ]
  },
  {
   "cell_type": "code",
   "execution_count": 3,
   "metadata": {},
   "outputs": [],
   "source": [
    "def make_hatches(ax, df):\n",
    "    hatches = [h*len(df.index) for h in [['//'], ['--'], ['x'], ['\\\\'], ['||'], ['+'], ['o'], ['.']]]\n",
    "    hatches = sum(hatches, [])\n",
    "\n",
    "    if len(hatches) < len(ax.patches):\n",
    "        print(\"Not enough hatches defined\")\n",
    "        \n",
    "    for i,bar in enumerate(ax.patches):\n",
    "        bar.set_hatch(hatches[i])\n",
    "#     ax.legend()"
   ]
  },
  {
   "cell_type": "markdown",
   "metadata": {},
   "source": [
    "# Loading Data"
   ]
  },
  {
   "cell_type": "code",
   "execution_count": 4,
   "metadata": {},
   "outputs": [
    {
     "data": {
      "text/html": [
       "<div>\n",
       "<style scoped>\n",
       "    .dataframe tbody tr th:only-of-type {\n",
       "        vertical-align: middle;\n",
       "    }\n",
       "\n",
       "    .dataframe tbody tr th {\n",
       "        vertical-align: top;\n",
       "    }\n",
       "\n",
       "    .dataframe thead th {\n",
       "        text-align: right;\n",
       "    }\n",
       "</style>\n",
       "<table border=\"1\" class=\"dataframe\">\n",
       "  <thead>\n",
       "    <tr style=\"text-align: right;\">\n",
       "      <th></th>\n",
       "      <th>n_KHit</th>\n",
       "      <th>t_cudaMM</th>\n",
       "      <th>n_hostDMiss</th>\n",
       "      <th>t_hostDLoad</th>\n",
       "      <th>s_hostDLoad</th>\n",
       "      <th>n_devDMiss</th>\n",
       "      <th>t_devDEvict</th>\n",
       "      <th>s_htod</th>\n",
       "      <th>t_htod</th>\n",
       "      <th>n_hostDHit</th>\n",
       "      <th>...</th>\n",
       "      <th>s_devDWriteBack</th>\n",
       "      <th>n_KMiss</th>\n",
       "      <th>t_kernelLoad</th>\n",
       "      <th>warm</th>\n",
       "      <th>t_e2e</th>\n",
       "      <th>mode</th>\n",
       "      <th>nrepeat</th>\n",
       "      <th>matDim</th>\n",
       "      <th>depth</th>\n",
       "      <th>nbyte</th>\n",
       "    </tr>\n",
       "    <tr>\n",
       "      <th>name</th>\n",
       "      <th></th>\n",
       "      <th></th>\n",
       "      <th></th>\n",
       "      <th></th>\n",
       "      <th></th>\n",
       "      <th></th>\n",
       "      <th></th>\n",
       "      <th></th>\n",
       "      <th></th>\n",
       "      <th></th>\n",
       "      <th></th>\n",
       "      <th></th>\n",
       "      <th></th>\n",
       "      <th></th>\n",
       "      <th></th>\n",
       "      <th></th>\n",
       "      <th></th>\n",
       "      <th></th>\n",
       "      <th></th>\n",
       "      <th></th>\n",
       "      <th></th>\n",
       "    </tr>\n",
       "  </thead>\n",
       "  <tbody>\n",
       "    <tr>\n",
       "      <th>smallDirect</th>\n",
       "      <td>4.0</td>\n",
       "      <td>3.150928</td>\n",
       "      <td>9.0</td>\n",
       "      <td>0.033643</td>\n",
       "      <td>4194432.0</td>\n",
       "      <td>9.0</td>\n",
       "      <td>0.012158</td>\n",
       "      <td>2.097165e+07</td>\n",
       "      <td>0.904541</td>\n",
       "      <td>7.0</td>\n",
       "      <td>...</td>\n",
       "      <td>0.0</td>\n",
       "      <td>0.0</td>\n",
       "      <td>0.0</td>\n",
       "      <td>True</td>\n",
       "      <td>82.989453</td>\n",
       "      <td>direct</td>\n",
       "      <td>5</td>\n",
       "      <td>1024</td>\n",
       "      <td>4</td>\n",
       "      <td>37748736</td>\n",
       "    </tr>\n",
       "    <tr>\n",
       "      <th>largeDirect</th>\n",
       "      <td>4.0</td>\n",
       "      <td>126.978857</td>\n",
       "      <td>9.0</td>\n",
       "      <td>0.043945</td>\n",
       "      <td>268435584.0</td>\n",
       "      <td>9.0</td>\n",
       "      <td>0.017773</td>\n",
       "      <td>1.342177e+09</td>\n",
       "      <td>81.598828</td>\n",
       "      <td>7.0</td>\n",
       "      <td>...</td>\n",
       "      <td>0.0</td>\n",
       "      <td>0.0</td>\n",
       "      <td>0.0</td>\n",
       "      <td>True</td>\n",
       "      <td>38234.063672</td>\n",
       "      <td>direct</td>\n",
       "      <td>5</td>\n",
       "      <td>8192</td>\n",
       "      <td>4</td>\n",
       "      <td>2415919104</td>\n",
       "    </tr>\n",
       "    <tr>\n",
       "      <th>smallRemote</th>\n",
       "      <td>4.0</td>\n",
       "      <td>3.060889</td>\n",
       "      <td>9.0</td>\n",
       "      <td>5.816357</td>\n",
       "      <td>4194432.0</td>\n",
       "      <td>9.0</td>\n",
       "      <td>0.015527</td>\n",
       "      <td>2.097165e+07</td>\n",
       "      <td>1.014355</td>\n",
       "      <td>7.0</td>\n",
       "      <td>...</td>\n",
       "      <td>0.0</td>\n",
       "      <td>0.0</td>\n",
       "      <td>0.0</td>\n",
       "      <td>True</td>\n",
       "      <td>96.535547</td>\n",
       "      <td>process</td>\n",
       "      <td>5</td>\n",
       "      <td>1024</td>\n",
       "      <td>4</td>\n",
       "      <td>37748736</td>\n",
       "    </tr>\n",
       "    <tr>\n",
       "      <th>largeRemote</th>\n",
       "      <td>4.0</td>\n",
       "      <td>100.992920</td>\n",
       "      <td>9.0</td>\n",
       "      <td>319.850195</td>\n",
       "      <td>268435584.0</td>\n",
       "      <td>9.0</td>\n",
       "      <td>0.021143</td>\n",
       "      <td>1.342177e+09</td>\n",
       "      <td>81.700879</td>\n",
       "      <td>7.0</td>\n",
       "      <td>...</td>\n",
       "      <td>0.0</td>\n",
       "      <td>0.0</td>\n",
       "      <td>0.0</td>\n",
       "      <td>True</td>\n",
       "      <td>38716.978516</td>\n",
       "      <td>process</td>\n",
       "      <td>5</td>\n",
       "      <td>8192</td>\n",
       "      <td>4</td>\n",
       "      <td>2415919104</td>\n",
       "    </tr>\n",
       "  </tbody>\n",
       "</table>\n",
       "<p>4 rows × 28 columns</p>\n",
       "</div>"
      ],
      "text/plain": [
       "             n_KHit    t_cudaMM  n_hostDMiss  t_hostDLoad  s_hostDLoad  \\\n",
       "name                                                                     \n",
       "smallDirect     4.0    3.150928          9.0     0.033643    4194432.0   \n",
       "largeDirect     4.0  126.978857          9.0     0.043945  268435584.0   \n",
       "smallRemote     4.0    3.060889          9.0     5.816357    4194432.0   \n",
       "largeRemote     4.0  100.992920          9.0   319.850195  268435584.0   \n",
       "\n",
       "             n_devDMiss  t_devDEvict        s_htod     t_htod  n_hostDHit  \\\n",
       "name                                                                        \n",
       "smallDirect         9.0     0.012158  2.097165e+07   0.904541         7.0   \n",
       "largeDirect         9.0     0.017773  1.342177e+09  81.598828         7.0   \n",
       "smallRemote         9.0     0.015527  2.097165e+07   1.014355         7.0   \n",
       "largeRemote         9.0     0.021143  1.342177e+09  81.700879         7.0   \n",
       "\n",
       "             ...  s_devDWriteBack  n_KMiss  t_kernelLoad  warm         t_e2e  \\\n",
       "name         ...                                                               \n",
       "smallDirect  ...              0.0      0.0           0.0  True     82.989453   \n",
       "largeDirect  ...              0.0      0.0           0.0  True  38234.063672   \n",
       "smallRemote  ...              0.0      0.0           0.0  True     96.535547   \n",
       "largeRemote  ...              0.0      0.0           0.0  True  38716.978516   \n",
       "\n",
       "                mode  nrepeat  matDim  depth       nbyte  \n",
       "name                                                      \n",
       "smallDirect   direct        5    1024      4    37748736  \n",
       "largeDirect   direct        5    8192      4  2415919104  \n",
       "smallRemote  process        5    1024      4    37748736  \n",
       "largeRemote  process        5    8192      4  2415919104  \n",
       "\n",
       "[4 rows x 28 columns]"
      ]
     },
     "execution_count": 4,
     "metadata": {},
     "output_type": "execute_result"
    }
   ],
   "source": [
    "results = pd.read_csv(\"matmul.csv\", header=0, comment=\"#\")\n",
    "resultsWarm = results[ results['warm'] ]\n",
    "resultsWarm.set_index('name', inplace=True)\n",
    "\n",
    "resultsCold = results[ ~results['warm'] ]\n",
    "resultsCold.set_index('name', inplace=True)\n",
    "\n",
    "resultsWarm"
   ]
  },
  {
   "cell_type": "markdown",
   "metadata": {},
   "source": [
    "# Simple Analysis / Sanity Checking"
   ]
  },
  {
   "cell_type": "code",
   "execution_count": 5,
   "metadata": {},
   "outputs": [
    {
     "name": "stdout",
     "output_type": "stream",
     "text": [
      "t_cudaMM              100.993\n",
      "t_hostDLoad            319.85\n",
      "t_devDEvict         0.0211426\n",
      "t_htod                81.7009\n",
      "t_zero               0.104883\n",
      "t_kernel                37900\n",
      "t_dtoh                80.7793\n",
      "t_hostDWriteBack      202.428\n",
      "t_kernelLoad                0\n",
      "t_e2e                   38717\n",
      "Name: largeRemote, dtype: object\n"
     ]
    }
   ],
   "source": [
    "timeCols = [ name for name in resultsWarm.columns if 't_' in name ]\n",
    "overheadCols = [ c for c in timeCols if c != 't_e2e' and c != 't_kernel' ]\n",
    "print(resultsWarm.loc['largeRemote', timeCols])"
   ]
  },
  {
   "cell_type": "code",
   "execution_count": 6,
   "metadata": {},
   "outputs": [
    {
     "data": {
      "text/plain": [
       "name\n",
       "smallDirect      36.0\n",
       "largeDirect    2304.0\n",
       "smallRemote      36.0\n",
       "largeRemote    2304.0\n",
       "Name: nbyte, dtype: float64"
      ]
     },
     "execution_count": 6,
     "metadata": {},
     "output_type": "execute_result"
    }
   ],
   "source": [
    "resultsWarm['nbyte'] / (1024*1024)"
   ]
  },
  {
   "cell_type": "markdown",
   "metadata": {},
   "source": [
    "## Uncounted Time\n",
    "We have a little bit of excess time that hasn't been counted. For remote execution this definitely includes request/response encoding (particularly expensive with stats turned on). There does seem to be some scale-related missing time though that I haven't identified (~28ms in the large case, ~1.5ms in the small)"
   ]
  },
  {
   "cell_type": "code",
   "execution_count": 7,
   "metadata": {},
   "outputs": [
    {
     "name": "stdout",
     "output_type": "stream",
     "text": [
      "name\n",
      "smallDirect     1.451074\n",
      "largeDirect    27.793701\n",
      "smallRemote     4.305908\n",
      "largeRemote    31.143701\n",
      "dtype: float64\n",
      "name\n",
      "smallDirect     1.957031\n",
      "largeDirect    27.940186\n",
      "smallRemote     3.527100\n",
      "largeRemote    29.986572\n",
      "dtype: float64\n"
     ]
    }
   ],
   "source": [
    "print(resultsWarm['t_e2e'] - resultsWarm[ [ c for c in timeCols if c != 't_e2e']].sum(axis='columns'))\n",
    "print(resultsCold['t_e2e'] - resultsCold[ [ c for c in timeCols if c != 't_e2e']].sum(axis='columns'))"
   ]
  },
  {
   "cell_type": "markdown",
   "metadata": {},
   "source": [
    "## Overhead %"
   ]
  },
  {
   "cell_type": "markdown",
   "metadata": {},
   "source": [
    "Warm"
   ]
  },
  {
   "cell_type": "code",
   "execution_count": 8,
   "metadata": {},
   "outputs": [
    {
     "data": {
      "text/plain": [
       "name\n",
       "smallDirect     6.779088\n",
       "largeDirect     0.758516\n",
       "smallRemote    16.837426\n",
       "largeRemote     2.029799\n",
       "dtype: float64"
      ]
     },
     "execution_count": 8,
     "metadata": {},
     "output_type": "execute_result"
    }
   ],
   "source": [
    "(resultsWarm[overheadCols].sum(axis='columns') / resultsWarm['t_e2e'])*100"
   ]
  },
  {
   "cell_type": "markdown",
   "metadata": {},
   "source": [
    "Cold"
   ]
  },
  {
   "cell_type": "code",
   "execution_count": 9,
   "metadata": {},
   "outputs": [
    {
     "data": {
      "text/plain": [
       "name\n",
       "smallDirect    12.553848\n",
       "largeDirect     1.425938\n",
       "smallRemote    39.924921\n",
       "largeRemote     5.862036\n",
       "dtype: float64"
      ]
     },
     "execution_count": 9,
     "metadata": {},
     "output_type": "execute_result"
    }
   ],
   "source": [
    "(resultsCold[overheadCols].sum(axis='columns') / resultsCold['t_e2e'])*100"
   ]
  },
  {
   "cell_type": "markdown",
   "metadata": {},
   "source": [
    "# Plots"
   ]
  },
  {
   "cell_type": "markdown",
   "metadata": {},
   "source": [
    "## Time Breakdown"
   ]
  },
  {
   "cell_type": "code",
   "execution_count": 129,
   "metadata": {},
   "outputs": [],
   "source": [
    "def getLimits(df):\n",
    "    # Time contribution of the non-kernel parts (for the biggest benchmark)\n",
    "    extraHeight = df.drop(columns=['Kernel']).transpose().sum().max()\n",
    "    totalHeight = df.transpose().sum().max()\n",
    "    \n",
    "    return ((0, extraHeight*1.25), (totalHeight * .75,totalHeight*1.1))\n",
    "\n",
    "\n",
    "def plotBreakdown(df, title=''):\n",
    "    ax = df.plot(kind='bar', stacked=True, legend=None)\n",
    "    make_hatches(ax, df)\n",
    "    ax.set_title(title)\n",
    "    ax.set_ylabel(\"Time (ms)\")\n",
    "    return ax.get_figure()\n",
    "    \n",
    "    \n",
    "def plotBreakdownBroken(df, limits, title=''):\n",
    "    fig, (ax1, ax2) = plt.subplots(2,1,sharex=True, gridspec_kw={\"height_ratios\" : [0.5, 1]})\n",
    "    \n",
    "    ax1.spines['bottom'].set_visible(False)\n",
    "    ax1.tick_params(axis='x',which='both',bottom=False)\n",
    "    ax2.spines['top'].set_visible(False)\n",
    "    \n",
    "    ax1.set_title(title)\n",
    "#     ax1.set_ylabel(\"Time (ms)\")\n",
    "    \n",
    "    ax2.set_ylim(limits[0][0], limits[0][1])\n",
    "    ax1.set_ylim(limits[1][0], limits[1][1])\n",
    "    \n",
    "    df.plot(kind='bar', stacked=True, ax=ax1, legend=None)\n",
    "    df.plot(kind='bar', stacked=True, ax=ax2, legend=None)\n",
    "    make_hatches(ax1, df)\n",
    "    make_hatches(ax2, df)\n",
    "    \n",
    "    # sets the slash on the break on the axis\n",
    "    for tick in ax2.get_xticklabels():\n",
    "        tick.set_rotation(0)\n",
    "    d = .015  \n",
    "    kwargs = dict(transform=ax1.transAxes, color='k', clip_on=False)\n",
    "    ax1.plot((-d, +d), (-d, +d), **kwargs)      \n",
    "    ax1.plot((1 - d, 1 + d), (-d, +d), **kwargs)\n",
    "    kwargs.update(transform=ax2.transAxes)  \n",
    "    ax2.plot((-d, +d), (1 - d, 1 + d), **kwargs)  \n",
    "    ax2.plot((1 - d, 1 + d), (1 - d, 1 + d), **kwargs)\n",
    "\n",
    "    # Use this to get a legend that can be cropped into the poster\n",
    "#     ax1.legend(loc='upper left', bbox_to_anchor=(0,-3), ncol=6)\n",
    "    ax1.legend(loc='upper left', bbox_to_anchor=(1,1))\n",
    "\n",
    "    ax1.set_xlabel('')\n",
    "    ax2.set_xlabel('')\n",
    "    return fig    \n",
    "    \n",
    "\n",
    "def cleanBreakdown(df):\n",
    "    bdDF = df.copy()\n",
    "    bdDF['PlotName'] = df['mode']\n",
    "    bdDF['PlotName'] = bdDF['PlotName'].str.replace(\"direct\", \"Shared Mem\")\n",
    "    bdDF['PlotName'] = bdDF['PlotName'].str.replace(\"process\", \"Redis\")\n",
    "    \n",
    "    bdDF.set_index('PlotName', inplace=True)\n",
    "\n",
    "    bdDF = bdDF.loc[:,timeCols]\n",
    "    bdDF = bdDF[['t_cudaMM','t_hostDLoad', 't_dtoh', 't_htod', 't_hostDWriteBack','t_kernel']]\n",
    "    bdDF.rename(inplace = True, columns = {'t_cudaMM' : \"CUDA MM\",'t_hostDLoad' : \"KV Read\",\n",
    "                           't_htod' : 'GPU Write', 't_dtoh' : 'GPU Read',\n",
    "                           't_hostDWriteBack' : \"KV Write\", 't_kernel' : \"Kernel\"})\n",
    "    \n",
    "    return bdDF\n",
    "#     large = bdDF.loc[['largeDirect', 'largeRemote']].rename(index={\"largeDirect\" : 'Shared Mem', \"largeRemote\" : \"Redis\"})\n",
    "#     small = bdDF.loc[['smallDirect', 'smallRemote']].rename(index={\"smallDirect\" : 'Shared Mem', \"smallRemote\" : \"Redis\"})\n",
    "#     return (small, large)\n",
    "\n",
    "smallCold = results[ (results['matDim'] == 1024) & ~results['warm'] ]\n",
    "smallWarm = results[ (results['matDim'] == 1024) & results['warm'] ]\n",
    "largeCold = results[ (results['matDim'] == 8192) & ~results['warm'] ]\n",
    "largeWarm = results[ (results['matDim'] == 8192) & results['warm'] ]\n",
    "\n",
    "smallColdPlt = cleanBreakdown(smallCold)\n",
    "smallWarmPlt = cleanBreakdown(smallWarm)\n",
    "largeColdPlt = cleanBreakdown(largeCold)\n",
    "largeWarmPlt = cleanBreakdown(largeWarm)"
   ]
  },
  {
   "cell_type": "code",
   "execution_count": 131,
   "metadata": {},
   "outputs": [
    {
     "name": "stderr",
     "output_type": "stream",
     "text": [
      "'lmroman8-regular.otf' can not be subsetted into a Type 3 font. The entire font will be embedded in the output.\n"
     ]
    },
    {
     "data": {
      "image/png": "[encoded data removed]",
      "text/plain": [
       "<Figure size 432x288 with 2 Axes>"
      ]
     },
     "metadata": {
      "needs_background": "light"
     },
     "output_type": "display_data"
    }
   ],
   "source": [
    "figLargeCold = plotBreakdownBroken(largeColdPlt, getLimits(largeColdPlt), title=\"Large\")\n",
    "# figLargeWarm = plotBreakdownBroken(largeWarmPlt, getLimits(largeWarmPlt), title=\"Large\")\n",
    "# figSmallCold = plotBreakdownBroken(smallColdPlt, getLimits(smallColdPlt), title=\"Small\")\n",
    "# figSmallWarm = plotBreakdownBroken(smallWarmPlt, getLimits(smallWarmPlt), title=\"Small\")\n",
    "\n",
    "figLargeCold.savefig(\"mmBreakdownCold.pdf\", bbox_inches = \"tight\", format=\"pdf\")\n",
    "# figLargeWarm.savefig(\"mmBreakdownLargeWarm.pdf\", bbox_inches = \"tight\", format=\"pdf\")\n",
    "# figSmallCold.savefig(\"mmBreakdownSmallCold.pdf\", bbox_inches = \"tight\", format=\"pdf\")\n",
    "# figSmallWarm.savefig(\"mmBreakdownSmallWarm.pdf\", bbox_inches = \"tight\", format=\"pdf\")"
   ]
  },
  {
   "cell_type": "code",
   "execution_count": null,
   "metadata": {},
   "outputs": [],
   "source": []
  }
 ],
 "metadata": {
  "kernelspec": {
   "display_name": "Python 3",
   "language": "python",
   "name": "python3"
  },
  "language_info": {
   "codemirror_mode": {
    "name": "ipython",
    "version": 3
   },
   "file_extension": ".py",
   "mimetype": "text/x-python",
   "name": "python",
   "nbconvert_exporter": "python",
   "pygments_lexer": "ipython3",
   "version": "3.8.5"
  }
 },
 "nbformat": 4,
 "nbformat_minor": 4
}
